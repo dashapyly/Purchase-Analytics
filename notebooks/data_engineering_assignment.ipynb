{
 "cells": [
  {
   "cell_type": "code",
   "execution_count": null,
   "metadata": {
    "collapsed": true
   },
   "outputs": [],
   "source": [
    "\n",
    "        Purchase-Analytics/insight_testsuite/tests/test_1/input/order_products.csv\n",
    "      "
   ]
  },
  {
   "cell_type": "code",
   "execution_count": 76,
   "metadata": {
    "collapsed": false
   },
   "outputs": [
    {
     "data": {
      "text/html": [
       "<div>\n",
       "<table border=\"1\" class=\"dataframe\">\n",
       "  <thead>\n",
       "    <tr style=\"text-align: right;\">\n",
       "      <th></th>\n",
       "      <th>product_id</th>\n",
       "      <th>product_name</th>\n",
       "      <th>aisle_id</th>\n",
       "      <th>department_id</th>\n",
       "    </tr>\n",
       "  </thead>\n",
       "  <tbody>\n",
       "    <tr>\n",
       "      <th>0</th>\n",
       "      <td>9327</td>\n",
       "      <td>Garlic Powder</td>\n",
       "      <td>104</td>\n",
       "      <td>13</td>\n",
       "    </tr>\n",
       "    <tr>\n",
       "      <th>1</th>\n",
       "      <td>17461</td>\n",
       "      <td>Air Chilled Organic Boneless Skinless Chicken ...</td>\n",
       "      <td>35</td>\n",
       "      <td>12</td>\n",
       "    </tr>\n",
       "    <tr>\n",
       "      <th>2</th>\n",
       "      <td>17668</td>\n",
       "      <td>Unsweetened Chocolate Almond Breeze Almond Milk</td>\n",
       "      <td>91</td>\n",
       "      <td>16</td>\n",
       "    </tr>\n",
       "    <tr>\n",
       "      <th>3</th>\n",
       "      <td>28985</td>\n",
       "      <td>Michigan Organic Kale</td>\n",
       "      <td>83</td>\n",
       "      <td>4</td>\n",
       "    </tr>\n",
       "    <tr>\n",
       "      <th>4</th>\n",
       "      <td>32665</td>\n",
       "      <td>Organic Ezekiel 49 Bread Cinnamon Raisin</td>\n",
       "      <td>112</td>\n",
       "      <td>3</td>\n",
       "    </tr>\n",
       "  </tbody>\n",
       "</table>\n",
       "</div>"
      ],
      "text/plain": [
       "   product_id                                       product_name  aisle_id  \\\n",
       "0        9327                                      Garlic Powder       104   \n",
       "1       17461  Air Chilled Organic Boneless Skinless Chicken ...        35   \n",
       "2       17668    Unsweetened Chocolate Almond Breeze Almond Milk        91   \n",
       "3       28985                              Michigan Organic Kale        83   \n",
       "4       32665           Organic Ezekiel 49 Bread Cinnamon Raisin       112   \n",
       "\n",
       "   department_id  \n",
       "0             13  \n",
       "1             12  \n",
       "2             16  \n",
       "3              4  \n",
       "4              3  "
      ]
     },
     "execution_count": 76,
     "metadata": {},
     "output_type": "execute_result"
    }
   ],
   "source": [
    "import pandas as pd\n",
    "orders_df = pd.read_csv('bla.csv')\n",
    "products_df = pd.read_csv('product_id.csv')\n",
    "products_df"
   ]
  },
  {
   "cell_type": "markdown",
   "metadata": {},
   "source": [
    "products_df[['product_id', 'department_id']].drop_duplicates()"
   ]
  },
  {
   "cell_type": "code",
   "execution_count": 79,
   "metadata": {
    "collapsed": false
   },
   "outputs": [
    {
     "name": "stdout",
     "output_type": "stream",
     "text": [
      "9\n"
     ]
    },
    {
     "data": {
      "text/html": [
       "<div>\n",
       "<table border=\"1\" class=\"dataframe\">\n",
       "  <thead>\n",
       "    <tr style=\"text-align: right;\">\n",
       "      <th></th>\n",
       "      <th>order_id</th>\n",
       "      <th>product_id</th>\n",
       "      <th>add_to_cart_order</th>\n",
       "      <th>reordered</th>\n",
       "    </tr>\n",
       "  </thead>\n",
       "  <tbody>\n",
       "    <tr>\n",
       "      <th>0</th>\n",
       "      <td>2</td>\n",
       "      <td>33120</td>\n",
       "      <td>1</td>\n",
       "      <td>1</td>\n",
       "    </tr>\n",
       "    <tr>\n",
       "      <th>1</th>\n",
       "      <td>2</td>\n",
       "      <td>28985</td>\n",
       "      <td>2</td>\n",
       "      <td>1</td>\n",
       "    </tr>\n",
       "    <tr>\n",
       "      <th>2</th>\n",
       "      <td>2</td>\n",
       "      <td>9327</td>\n",
       "      <td>3</td>\n",
       "      <td>0</td>\n",
       "    </tr>\n",
       "    <tr>\n",
       "      <th>3</th>\n",
       "      <td>2</td>\n",
       "      <td>45918</td>\n",
       "      <td>4</td>\n",
       "      <td>1</td>\n",
       "    </tr>\n",
       "    <tr>\n",
       "      <th>4</th>\n",
       "      <td>3</td>\n",
       "      <td>17668</td>\n",
       "      <td>1</td>\n",
       "      <td>1</td>\n",
       "    </tr>\n",
       "  </tbody>\n",
       "</table>\n",
       "</div>"
      ],
      "text/plain": [
       "   order_id   product_id  add_to_cart_order  reordered\n",
       "0          2       33120                  1          1\n",
       "1          2       28985                  2          1\n",
       "2          2        9327                  3          0\n",
       "3          2       45918                  4          1\n",
       "4          3       17668                  1          1"
      ]
     },
     "execution_count": 79,
     "metadata": {},
     "output_type": "execute_result"
    }
   ],
   "source": [
    "print(len(orders_df))\n",
    "orders_df.head()"
   ]
  },
  {
   "cell_type": "code",
   "execution_count": 88,
   "metadata": {
    "collapsed": false
   },
   "outputs": [
    {
     "data": {
      "text/html": [
       "<div>\n",
       "<table border=\"1\" class=\"dataframe\">\n",
       "  <thead>\n",
       "    <tr style=\"text-align: right;\">\n",
       "      <th></th>\n",
       "      <th>order_id</th>\n",
       "      <th>product_id</th>\n",
       "      <th>add_to_cart_order</th>\n",
       "      <th>reordered</th>\n",
       "      <th>department_id</th>\n",
       "    </tr>\n",
       "  </thead>\n",
       "  <tbody>\n",
       "    <tr>\n",
       "      <th>0</th>\n",
       "      <td>2</td>\n",
       "      <td>33120</td>\n",
       "      <td>1</td>\n",
       "      <td>1</td>\n",
       "      <td>16</td>\n",
       "    </tr>\n",
       "    <tr>\n",
       "      <th>1</th>\n",
       "      <td>2</td>\n",
       "      <td>28985</td>\n",
       "      <td>2</td>\n",
       "      <td>1</td>\n",
       "      <td>4</td>\n",
       "    </tr>\n",
       "    <tr>\n",
       "      <th>2</th>\n",
       "      <td>2</td>\n",
       "      <td>9327</td>\n",
       "      <td>3</td>\n",
       "      <td>0</td>\n",
       "      <td>13</td>\n",
       "    </tr>\n",
       "    <tr>\n",
       "      <th>3</th>\n",
       "      <td>2</td>\n",
       "      <td>45918</td>\n",
       "      <td>4</td>\n",
       "      <td>1</td>\n",
       "      <td>13</td>\n",
       "    </tr>\n",
       "    <tr>\n",
       "      <th>4</th>\n",
       "      <td>3</td>\n",
       "      <td>17668</td>\n",
       "      <td>1</td>\n",
       "      <td>1</td>\n",
       "      <td>16</td>\n",
       "    </tr>\n",
       "    <tr>\n",
       "      <th>5</th>\n",
       "      <td>3</td>\n",
       "      <td>46667</td>\n",
       "      <td>2</td>\n",
       "      <td>1</td>\n",
       "      <td>4</td>\n",
       "    </tr>\n",
       "    <tr>\n",
       "      <th>6</th>\n",
       "      <td>3</td>\n",
       "      <td>17461</td>\n",
       "      <td>4</td>\n",
       "      <td>1</td>\n",
       "      <td>12</td>\n",
       "    </tr>\n",
       "    <tr>\n",
       "      <th>7</th>\n",
       "      <td>3</td>\n",
       "      <td>32665</td>\n",
       "      <td>3</td>\n",
       "      <td>1</td>\n",
       "      <td>3</td>\n",
       "    </tr>\n",
       "    <tr>\n",
       "      <th>8</th>\n",
       "      <td>4</td>\n",
       "      <td>46842</td>\n",
       "      <td>1</td>\n",
       "      <td>0</td>\n",
       "      <td>3</td>\n",
       "    </tr>\n",
       "  </tbody>\n",
       "</table>\n",
       "</div>"
      ],
      "text/plain": [
       "   order_id   product_id  add_to_cart_order  reordered  department_id\n",
       "0          2       33120                  1          1             16\n",
       "1          2       28985                  2          1              4\n",
       "2          2        9327                  3          0             13\n",
       "3          2       45918                  4          1             13\n",
       "4          3       17668                  1          1             16\n",
       "5          3       46667                  2          1              4\n",
       "6          3       17461                  4          1             12\n",
       "7          3       32665                  3          1              3\n",
       "8          4       46842                  1          0              3"
      ]
     },
     "execution_count": 88,
     "metadata": {},
     "output_type": "execute_result"
    }
   ],
   "source": [
    "orders_wdep_df = orders_df.merge(\n",
    "    products_df[['product_id', 'department_id']].drop_duplicates(),\n",
    "    on=[\"product_id\"],\n",
    "#     validate=\"1:1\"\n",
    ")\n",
    "orders_wdep_df"
   ]
  },
  {
   "cell_type": "code",
   "execution_count": null,
   "metadata": {
    "collapsed": false
   },
   "outputs": [],
   "source": [
    "a = 1.5\n",
    "b = \"%0.2f\" % 1.5\n",
    "b\n",
    "c = float(b)\n",
    "c"
   ]
  },
  {
   "cell_type": "code",
   "execution_count": 81,
   "metadata": {
    "collapsed": false
   },
   "outputs": [
    {
     "data": {
      "text/html": [
       "<div>\n",
       "<table border=\"1\" class=\"dataframe\">\n",
       "  <thead>\n",
       "    <tr style=\"text-align: right;\">\n",
       "      <th></th>\n",
       "      <th>order_id</th>\n",
       "      <th>product_id</th>\n",
       "      <th>add_to_cart_order</th>\n",
       "      <th>reordered</th>\n",
       "    </tr>\n",
       "  </thead>\n",
       "  <tbody>\n",
       "    <tr>\n",
       "      <th>0</th>\n",
       "      <td>2</td>\n",
       "      <td>33120</td>\n",
       "      <td>1</td>\n",
       "      <td>1</td>\n",
       "    </tr>\n",
       "    <tr>\n",
       "      <th>1</th>\n",
       "      <td>2</td>\n",
       "      <td>28985</td>\n",
       "      <td>2</td>\n",
       "      <td>1</td>\n",
       "    </tr>\n",
       "    <tr>\n",
       "      <th>2</th>\n",
       "      <td>2</td>\n",
       "      <td>9327</td>\n",
       "      <td>3</td>\n",
       "      <td>0</td>\n",
       "    </tr>\n",
       "    <tr>\n",
       "      <th>3</th>\n",
       "      <td>2</td>\n",
       "      <td>45918</td>\n",
       "      <td>4</td>\n",
       "      <td>1</td>\n",
       "    </tr>\n",
       "    <tr>\n",
       "      <th>4</th>\n",
       "      <td>3</td>\n",
       "      <td>17668</td>\n",
       "      <td>1</td>\n",
       "      <td>1</td>\n",
       "    </tr>\n",
       "  </tbody>\n",
       "</table>\n",
       "</div>"
      ],
      "text/plain": [
       "   order_id   product_id  add_to_cart_order  reordered\n",
       "0          2       33120                  1          1\n",
       "1          2       28985                  2          1\n",
       "2          2        9327                  3          0\n",
       "3          2       45918                  4          1\n",
       "4          3       17668                  1          1"
      ]
     },
     "execution_count": 81,
     "metadata": {},
     "output_type": "execute_result"
    }
   ],
   "source": [
    "product_depart_pairs.head()"
   ]
  },
  {
   "cell_type": "code",
   "execution_count": 94,
   "metadata": {
    "collapsed": false
   },
   "outputs": [
    {
     "data": {
      "text/html": [
       "<div>\n",
       "<table border=\"1\" class=\"dataframe\">\n",
       "  <thead>\n",
       "    <tr style=\"text-align: right;\">\n",
       "      <th></th>\n",
       "      <th>department_id</th>\n",
       "      <th>reordered</th>\n",
       "    </tr>\n",
       "  </thead>\n",
       "  <tbody>\n",
       "    <tr>\n",
       "      <th>0</th>\n",
       "      <td>3</td>\n",
       "      <td>2</td>\n",
       "    </tr>\n",
       "    <tr>\n",
       "      <th>1</th>\n",
       "      <td>4</td>\n",
       "      <td>2</td>\n",
       "    </tr>\n",
       "    <tr>\n",
       "      <th>2</th>\n",
       "      <td>12</td>\n",
       "      <td>1</td>\n",
       "    </tr>\n",
       "    <tr>\n",
       "      <th>3</th>\n",
       "      <td>13</td>\n",
       "      <td>2</td>\n",
       "    </tr>\n",
       "    <tr>\n",
       "      <th>4</th>\n",
       "      <td>16</td>\n",
       "      <td>2</td>\n",
       "    </tr>\n",
       "  </tbody>\n",
       "</table>\n",
       "</div>"
      ],
      "text/plain": [
       "   department_id  reordered\n",
       "0              3          2\n",
       "1              4          2\n",
       "2             12          1\n",
       "3             13          2\n",
       "4             16          2"
      ]
     },
     "execution_count": 94,
     "metadata": {},
     "output_type": "execute_result"
    }
   ],
   "source": [
    "number_of_orders = orders_wdep_df.groupby('department_id')['reordered'].count()\n",
    "number_of_orders.reset_index(drop=False)"
   ]
  },
  {
   "cell_type": "code",
   "execution_count": 4,
   "metadata": {
    "collapsed": false
   },
   "outputs": [
    {
     "data": {
      "text/html": [
       "<div>\n",
       "<table border=\"1\" class=\"dataframe\">\n",
       "  <thead>\n",
       "    <tr style=\"text-align: right;\">\n",
       "      <th></th>\n",
       "      <th>department_id</th>\n",
       "      <th>number_of_orders</th>\n",
       "      <th>number_of_first_orders</th>\n",
       "      <th>percentage</th>\n",
       "    </tr>\n",
       "  </thead>\n",
       "  <tbody>\n",
       "    <tr>\n",
       "      <th>0</th>\n",
       "      <td>3</td>\n",
       "      <td>2</td>\n",
       "      <td>1</td>\n",
       "      <td>0.50</td>\n",
       "    </tr>\n",
       "    <tr>\n",
       "      <th>1</th>\n",
       "      <td>4</td>\n",
       "      <td>2</td>\n",
       "      <td>0</td>\n",
       "      <td>0.00</td>\n",
       "    </tr>\n",
       "    <tr>\n",
       "      <th>2</th>\n",
       "      <td>12</td>\n",
       "      <td>1</td>\n",
       "      <td>0</td>\n",
       "      <td>0.00</td>\n",
       "    </tr>\n",
       "    <tr>\n",
       "      <th>3</th>\n",
       "      <td>13</td>\n",
       "      <td>2</td>\n",
       "      <td>1</td>\n",
       "      <td>0.50</td>\n",
       "    </tr>\n",
       "    <tr>\n",
       "      <th>4</th>\n",
       "      <td>16</td>\n",
       "      <td>2</td>\n",
       "      <td>0</td>\n",
       "      <td>0.00</td>\n",
       "    </tr>\n",
       "  </tbody>\n",
       "</table>\n",
       "</div>"
      ],
      "text/plain": [
       "   department_id  number_of_orders  number_of_first_orders percentage\n",
       "0              3                 2                       1       0.50\n",
       "1              4                 2                       0       0.00\n",
       "2             12                 1                       0       0.00\n",
       "3             13                 2                       1       0.50\n",
       "4             16                 2                       0       0.00"
      ]
     },
     "execution_count": 4,
     "metadata": {},
     "output_type": "execute_result"
    }
   ],
   "source": [
    "import numpy as np\n",
    "product_depart_pairs = pd.DataFrame({'department_id': products_df['department_id'].values},\n",
    "                                    index=products_df['product_id'])\n",
    "def insert_department_id(product_depart_pairs, order):\n",
    "    return product_depart_pairs.loc[order]\n",
    "\n",
    "orders_df['department_id'] = insert_department_id(orders_df['product_id']).values\n",
    "# AS: orders_df['department_id'] = product_depart_pairs.loc[orders_df['product_id']].values\n",
    "number_of_orders = orders_df.groupby('department_id', as_index=False)['reordered'].count()\n",
    "number_of_first_orders = orders_df.groupby('department_id', as_index=False)['reordered'].count() - \\\n",
    "        orders_df.groupby('department_id', as_index=False)['reordered'].sum()\n",
    "percentage_float = number_of_first_orders['reordered'] / number_of_orders['reordered'] \n",
    "\n",
    "def create_decimal_point(percentage):\n",
    "    return \"%0.2f\" % percentage\n",
    "percentage_str = percentage_float.apply(create_decimal_point)\n",
    "output_df = pd.DataFrame(number_of_orders['department_id'])\n",
    "output_df['number_of_orders'] = number_of_orders['reordered']\n",
    "output_df['number_of_first_orders'] = number_of_first_orders['reordered']\n",
    "output_df['percentage'] = percentage_str\n",
    "\n",
    "output_df.to_csv('report.csv')\n",
    "output_df\n"
   ]
  },
  {
   "cell_type": "code",
   "execution_count": null,
   "metadata": {
    "collapsed": true
   },
   "outputs": [],
   "source": [
    "#Do the same thing without using pandas"
   ]
  },
  {
   "cell_type": "code",
   "execution_count": 96,
   "metadata": {
    "collapsed": false
   },
   "outputs": [],
   "source": [
    "def iter_csv(filename):\n",
    "    with open(filename, 'rb') as f:\n",
    "        reader = unicodecsv.DictReader(f)\n",
    "        for row in reader:\n",
    "            yield row"
   ]
  },
  {
   "cell_type": "code",
   "execution_count": 97,
   "metadata": {
    "collapsed": false
   },
   "outputs": [
    {
     "name": "stdout",
     "output_type": "stream",
     "text": [
      "OrderedDict([('product_id', '9327'), ('product_name', 'Garlic Powder'), ('aisle_id', '104'), ('department_id', '13')])\n"
     ]
    }
   ],
   "source": [
    "\n",
    "for row in iter_csv('product_id.csv'):\n",
    "    print(row)\n",
    "    # heavy computation\n",
    "    # write when done"
   ]
  },
  {
   "cell_type": "code",
   "execution_count": 101,
   "metadata": {
    "collapsed": false
   },
   "outputs": [
    {
     "name": "stdout",
     "output_type": "stream",
     "text": [
      "OrderedDict([('product_id', '9327'), ('product_name', 'Garlic Powder'), ('aisle_id', '104'), ('department_id', '13')])\n",
      "OrderedDict([('product_id', '17461'), ('product_name', 'Air Chilled Organic Boneless Skinless Chicken Breasts'), ('aisle_id', '35'), ('department_id', '12')])\n",
      "OrderedDict([('product_id', '17668'), ('product_name', 'Unsweetened Chocolate Almond Breeze Almond Milk'), ('aisle_id', '91'), ('department_id', '16')])\n"
     ]
    }
   ],
   "source": [
    "my_iter = iter_csv('product_id.csv')\n",
    "\n",
    "print(next(my_iter))\n",
    "print(next(my_iter))\n",
    "print(next(my_iter))"
   ]
  },
  {
   "cell_type": "code",
   "execution_count": 102,
   "metadata": {
    "collapsed": false
   },
   "outputs": [
    {
     "name": "stdout",
     "output_type": "stream",
     "text": [
      "[OrderedDict([('order_id ', '2'), ('product_id', '33120'), ('add_to_cart_order', '1'), ('reordered', '1')]), OrderedDict([('order_id ', '2'), ('product_id', '28985'), ('add_to_cart_order', '2'), ('reordered', '1')]), OrderedDict([('order_id ', '2'), ('product_id', '9327'), ('add_to_cart_order', '3'), ('reordered', '0')]), OrderedDict([('order_id ', '2'), ('product_id', '45918'), ('add_to_cart_order', '4'), ('reordered', '1')]), OrderedDict([('order_id ', '3'), ('product_id', '17668'), ('add_to_cart_order', '1'), ('reordered', '1')]), OrderedDict([('order_id ', '3'), ('product_id', '46667'), ('add_to_cart_order', '2'), ('reordered', '1')]), OrderedDict([('order_id ', '3'), ('product_id', '17461'), ('add_to_cart_order', '4'), ('reordered', '1')]), OrderedDict([('order_id ', '3'), ('product_id', '32665'), ('add_to_cart_order', '3'), ('reordered', '1')]), OrderedDict([('order_id ', '4'), ('product_id', '46842'), ('add_to_cart_order', '1'), ('reordered', '0')])]\n"
     ]
    }
   ],
   "source": [
    "import unicodecsv\n",
    "def read_csv(filename):\n",
    "    with open(filename, 'rb') as f:\n",
    "        reader = unicodecsv.DictReader(f)\n",
    "        return list(reader)\n",
    "products = read_csv('product_id.csv')\n",
    "orders = read_csv('bla.csv')\n",
    "print(orders)"
   ]
  },
  {
   "cell_type": "code",
   "execution_count": 103,
   "metadata": {
    "collapsed": false
   },
   "outputs": [
    {
     "name": "stdout",
     "output_type": "stream",
     "text": [
      "[OrderedDict([('product_id', '9327'), ('product_name', 'Garlic Powder'), ('aisle_id', '104'), ('department_id', '13')]), OrderedDict([('product_id', '17461'), ('product_name', 'Air Chilled Organic Boneless Skinless Chicken Breasts'), ('aisle_id', '35'), ('department_id', '12')]), OrderedDict([('product_id', '17668'), ('product_name', 'Unsweetened Chocolate Almond Breeze Almond Milk'), ('aisle_id', '91'), ('department_id', '16')]), OrderedDict([('product_id', '28985'), ('product_name', 'Michigan Organic Kale'), ('aisle_id', '83'), ('department_id', '4')]), OrderedDict([('product_id', '32665'), ('product_name', 'Organic Ezekiel 49 Bread Cinnamon Raisin'), ('aisle_id', '112'), ('department_id', '3')]), OrderedDict([('product_id', '33120'), ('product_name', 'Organic Egg Whites'), ('aisle_id', '86'), ('department_id', '16')]), OrderedDict([('product_id', '45918'), ('product_name', 'Coconut Butter'), ('aisle_id', '19'), ('department_id', '13')]), OrderedDict([('product_id', '46667'), ('product_name', 'Organic Ginger Root'), ('aisle_id', '83'), ('department_id', '4')]), OrderedDict([('product_id', '46842'), ('product_name', 'Plain Pre-Sliced Bagels'), ('aisle_id', '93'), ('department_id', '3')])]\n"
     ]
    }
   ],
   "source": [
    "print(products)"
   ]
  },
  {
   "cell_type": "code",
   "execution_count": 104,
   "metadata": {
    "collapsed": false
   },
   "outputs": [],
   "source": [
    "#Create a dictionary of products and departments\n",
    "department_by_product = {}\n",
    "for item in products:\n",
    "    product_id = item['product_id']\n",
    "    department_by_product[product_id] = item['department_id']"
   ]
  },
  {
   "cell_type": "code",
   "execution_count": 105,
   "metadata": {
    "collapsed": false,
    "scrolled": true
   },
   "outputs": [],
   "source": [
    "#Add department to the dictionary of orders\n",
    "for item in orders:\n",
    "    item['department_id'] = department_by_product[item['product_id']]"
   ]
  },
  {
   "cell_type": "code",
   "execution_count": 106,
   "metadata": {
    "collapsed": false,
    "scrolled": true
   },
   "outputs": [
    {
     "name": "stdout",
     "output_type": "stream",
     "text": [
      "OrderedDict([('order_id ', '2'), ('product_id', '33120'), ('add_to_cart_order', '1'), ('reordered', '1'), ('department_id', '16')])\n"
     ]
    }
   ],
   "source": [
    "print(orders[0])"
   ]
  },
  {
   "cell_type": "code",
   "execution_count": 107,
   "metadata": {
    "collapsed": false
   },
   "outputs": [],
   "source": [
    "#Sort orders by department\n",
    "from collections import defaultdict\n",
    "\n",
    "# Create a dictionary of orders by department.\n",
    "# The keys are departments, and the values are lists of order records.\n",
    "orders_by_department = defaultdict(list)\n",
    "for item in orders:\n",
    "    department_id = item['department_id']\n",
    "    orders_by_department[department_id].append(item)"
   ]
  },
  {
   "cell_type": "code",
   "execution_count": 108,
   "metadata": {
    "collapsed": false
   },
   "outputs": [
    {
     "name": "stdout",
     "output_type": "stream",
     "text": [
      "defaultdict(<class 'list'>, {'16': [OrderedDict([('order_id ', '2'), ('product_id', '33120'), ('add_to_cart_order', '1'), ('reordered', '1'), ('department_id', '16')]), OrderedDict([('order_id ', '3'), ('product_id', '17668'), ('add_to_cart_order', '1'), ('reordered', '1'), ('department_id', '16')])], '4': [OrderedDict([('order_id ', '2'), ('product_id', '28985'), ('add_to_cart_order', '2'), ('reordered', '1'), ('department_id', '4')]), OrderedDict([('order_id ', '3'), ('product_id', '46667'), ('add_to_cart_order', '2'), ('reordered', '1'), ('department_id', '4')])], '13': [OrderedDict([('order_id ', '2'), ('product_id', '9327'), ('add_to_cart_order', '3'), ('reordered', '0'), ('department_id', '13')]), OrderedDict([('order_id ', '2'), ('product_id', '45918'), ('add_to_cart_order', '4'), ('reordered', '1'), ('department_id', '13')])], '12': [OrderedDict([('order_id ', '3'), ('product_id', '17461'), ('add_to_cart_order', '4'), ('reordered', '1'), ('department_id', '12')])], '3': [OrderedDict([('order_id ', '3'), ('product_id', '32665'), ('add_to_cart_order', '3'), ('reordered', '1'), ('department_id', '3')]), OrderedDict([('order_id ', '4'), ('product_id', '46842'), ('add_to_cart_order', '1'), ('reordered', '0'), ('department_id', '3')])]})\n"
     ]
    }
   ],
   "source": [
    "print(orders_by_department)"
   ]
  },
  {
   "cell_type": "code",
   "execution_count": 109,
   "metadata": {
    "collapsed": false
   },
   "outputs": [],
   "source": [
    "number_of_orders = {}\n",
    "for department_id, items in orders_by_department.items():\n",
    "# total_orders = 0\n",
    "#    for item in items:\n",
    "#        total_orders += 1\n",
    "#    number_of_orders[department_id] = total_orders\n",
    "    number_of_orders[department_id] = len(items)\n",
    "\n",
    "number_of_first_orders = {}\n",
    "for department_id, items in orders_by_department.items():\n",
    "    total_first_orders = 0\n",
    "    for item in items:\n",
    "        if int(item['reordered']) == 1:\n",
    "            total_first_orders = total_first_orders\n",
    "            # AS: pass\n",
    "        else: \n",
    "            assert int(item['reordered']) == 0\n",
    "            total_first_orders += 1\n",
    "    number_of_first_orders[department_id] = total_first_orders    \n",
    "\n",
    "percentage = {}\n",
    "for key in number_of_first_orders:\n",
    "    ratio = number_of_first_orders[key] / number_of_orders[key]\n",
    "    percentage[key] = ratio"
   ]
  },
  {
   "cell_type": "code",
   "execution_count": 110,
   "metadata": {
    "collapsed": false
   },
   "outputs": [
    {
     "name": "stdout",
     "output_type": "stream",
     "text": [
      "{'16': 2, '4': 2, '13': 2, '12': 1, '3': 2}\n"
     ]
    }
   ],
   "source": [
    "print (number_of_orders)"
   ]
  },
  {
   "cell_type": "code",
   "execution_count": 61,
   "metadata": {
    "collapsed": false
   },
   "outputs": [],
   "source": [
    "output_unsorted = []\n",
    "for key in number_of_orders:\n",
    "    department_record = {}\n",
    "    department_record['department_id'] = key\n",
    "    department_record['number_of_orders'] = number_of_orders[key]\n",
    "    department_record['number_of_first_orders'] = number_of_first_orders[key]\n",
    "    department_record['percentage'] = \"%0.2f\" % percentage[key]\n",
    "    department_record['percentage'] = \"{:0.2f}\".format(percentage[key])\n",
    "    output_unsorted.append(department_record)"
   ]
  },
  {
   "cell_type": "code",
   "execution_count": 67,
   "metadata": {
    "collapsed": false
   },
   "outputs": [
    {
     "name": "stdout",
     "output_type": "stream",
     "text": [
      "[{'department_id': '3', 'number_of_orders': 2, 'number_of_first_orders': 1, 'percentage': '0.50'}, {'department_id': '4', 'number_of_orders': 2, 'number_of_first_orders': 0, 'percentage': '0.00'}, {'department_id': '12', 'number_of_orders': 1, 'number_of_first_orders': 0, 'percentage': '0.00'}, {'department_id': '13', 'number_of_orders': 2, 'number_of_first_orders': 1, 'percentage': '0.50'}, {'department_id': '16', 'number_of_orders': 2, 'number_of_first_orders': 0, 'percentage': '0.00'}]\n"
     ]
    }
   ],
   "source": [
    "output = sorted(output_unsorted, key=lambda d: int(d['department_id']))\n",
    "print(output)"
   ]
  },
  {
   "cell_type": "code",
   "execution_count": 68,
   "metadata": {
    "collapsed": false
   },
   "outputs": [
    {
     "data": {
      "text/html": [
       "<div>\n",
       "<table border=\"1\" class=\"dataframe\">\n",
       "  <thead>\n",
       "    <tr style=\"text-align: right;\">\n",
       "      <th></th>\n",
       "      <th>department_id</th>\n",
       "      <th>number_of_first_orders</th>\n",
       "      <th>number_of_orders</th>\n",
       "      <th>percentage</th>\n",
       "    </tr>\n",
       "  </thead>\n",
       "  <tbody>\n",
       "    <tr>\n",
       "      <th>0</th>\n",
       "      <td>3</td>\n",
       "      <td>1</td>\n",
       "      <td>2</td>\n",
       "      <td>0.50</td>\n",
       "    </tr>\n",
       "    <tr>\n",
       "      <th>1</th>\n",
       "      <td>4</td>\n",
       "      <td>0</td>\n",
       "      <td>2</td>\n",
       "      <td>0.00</td>\n",
       "    </tr>\n",
       "    <tr>\n",
       "      <th>2</th>\n",
       "      <td>12</td>\n",
       "      <td>0</td>\n",
       "      <td>1</td>\n",
       "      <td>0.00</td>\n",
       "    </tr>\n",
       "    <tr>\n",
       "      <th>3</th>\n",
       "      <td>13</td>\n",
       "      <td>1</td>\n",
       "      <td>2</td>\n",
       "      <td>0.50</td>\n",
       "    </tr>\n",
       "    <tr>\n",
       "      <th>4</th>\n",
       "      <td>16</td>\n",
       "      <td>0</td>\n",
       "      <td>2</td>\n",
       "      <td>0.00</td>\n",
       "    </tr>\n",
       "  </tbody>\n",
       "</table>\n",
       "</div>"
      ],
      "text/plain": [
       "  department_id  number_of_first_orders  number_of_orders percentage\n",
       "0             3                       1                 2       0.50\n",
       "1             4                       0                 2       0.00\n",
       "2            12                       0                 1       0.00\n",
       "3            13                       1                 2       0.50\n",
       "4            16                       0                 2       0.00"
      ]
     },
     "execution_count": 68,
     "metadata": {},
     "output_type": "execute_result"
    }
   ],
   "source": [
    "output_df = pd.DataFrame(output)\n",
    "output_df"
   ]
  },
  {
   "cell_type": "code",
   "execution_count": null,
   "metadata": {
    "collapsed": true
   },
   "outputs": [],
   "source": []
  },
  {
   "cell_type": "code",
   "execution_count": null,
   "metadata": {
    "collapsed": true
   },
   "outputs": [],
   "source": []
  }
 ],
 "metadata": {
  "kernelspec": {
   "display_name": "Python 3",
   "language": "python",
   "name": "python3"
  },
  "language_info": {
   "codemirror_mode": {
    "name": "ipython",
    "version": 3
   },
   "file_extension": ".py",
   "mimetype": "text/x-python",
   "name": "python",
   "nbconvert_exporter": "python",
   "pygments_lexer": "ipython3",
   "version": "3.6.0"
  }
 },
 "nbformat": 4,
 "nbformat_minor": 2
}
